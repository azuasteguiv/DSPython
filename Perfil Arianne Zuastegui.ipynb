{
 "cells": [
  {
   "cell_type": "markdown",
   "metadata": {},
   "source": [
    "# Perfil de Estudiante\n",
    "\n",
    "## Arianne Zuastegui\n",
    "\n",
    "![ARIANNE ZUASTEGUI](http://intranet.ufm.edu/fotos/20150131.jpg)\n",
    "\n",
    "### Datos Generales\n",
    "\n",
    ">**Direccion:** Km. 18.5 Carr a El Salvador, Praderas de San Vicente <br>\n",
    ">**Telefono:** 4389-0714 <br>\n",
    ">**Email:** azuasteguiv@ufm.edu <br>\n",
    ">** Estado Civil:** Comprometida <br>\n",
    ">** DPI:** 2993 37812 0101\n",
    "\n",
    "### Biografia\n",
    "Soy estudiante de la Universidad Francisco Marroquin, egresada del Colegio Interamericano de Guatemala con honores. Hija de Guisella y Sergio Zuastegui, hermana de la Dr. Annelise Zuastegui y futura madre de Adrian Valenzuela. Estudio Ingenieria Empresarial y curso el tercer semestre de la misma. \n",
    "\n",
    "### Grupos de Participacion\n",
    "\n",
    "Año | Grupo\n",
    "2014 | Colegio Los Angeles de Guatemala, auxiliar de Parvulos\n",
    "2014 | Tecnica de Reclutamiento de Siman\n",
    "2006 | Voz de Azucar Caña Real\n",
    "\n",
    "#### Reconocimientos\n",
    "\n",
    "Año | Reconocimineto\n",
    "2014 | Honor Roll\n",
    "2014 | Certificacion dela mejor alumna egresada del Colegio Interamericano\n",
    "2012 | Miss Teen Guatemala \n"
   ]
  }
 ],
 "metadata": {
  "kernelspec": {
   "display_name": "Python 2",
   "language": "python",
   "name": "python2"
  },
  "language_info": {
   "codemirror_mode": {
    "name": "ipython",
    "version": 2
   },
   "file_extension": ".py",
   "mimetype": "text/x-python",
   "name": "python",
   "nbconvert_exporter": "python",
   "pygments_lexer": "ipython2",
   "version": "2.7.11"
  }
 },
 "nbformat": 4,
 "nbformat_minor": 0
}
